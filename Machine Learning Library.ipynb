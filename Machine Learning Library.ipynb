{
 "cells": [
  {
   "cell_type": "markdown",
   "metadata": {},
   "source": [
    "# Readme\n",
    "\n",
    "Not every algo in the library is complex. Aside from make convenience for the future use, the ML is also use to remind myself what I know and what I should learn"
   ]
  },
  {
   "cell_type": "markdown",
   "metadata": {},
   "source": [
    "# Agenda  <a name=\"backtotop\"></a>\n",
    "---\n",
    "\n",
    "1. [CrossValidation](#CrossValidation)\n",
    "2. [Split Training and Testing Data](#SplitTrainingTestingData)\n",
    "3. [Decision Tree](#DecisionTree)\n",
    "4. [Community](#Community)\n",
    "5. [Logistic Regression](#LR)\n",
    "6. [Multinomial Naive Bayes](#MNB)"
   ]
  },
  {
   "cell_type": "markdown",
   "metadata": {},
   "source": [
    "## CrossValidation<a name=\"CrossValidation\">\n",
    "</a>\n",
    "\n",
    "\n",
    "[back to top](#backtotop)"
   ]
  },
  {
   "cell_type": "code",
   "execution_count": 2,
   "metadata": {},
   "outputs": [],
   "source": [
    "def CrossValidation(df, niter, f, *argvs):\n",
    "    accuracy = []\n",
    "    random_df = df.sample(frac = 1)\n",
    "    testing_len = int(len(random_df)/niter)\n",
    "    for i in range(niter):\n",
    "        df_testing = random_df.iloc[i*testing_len: (i+1)*testing_len]\n",
    "        df_training = pd.concat([random_df.iloc[:i*testing_len],\n",
    "                                       random_df.iloc[(i+1)*testing_len:]])\n",
    "        accuracy.append(f(df_training, df_testing, *argvs))\n",
    "        print(\"Iteration %d -- accuracy %f\"%(i, accuracy[-1]))\n",
    "    return np.average(accuracy)"
   ]
  },
  {
   "cell_type": "markdown",
   "metadata": {},
   "source": [
    "## Split Training and Testing Data<a name=\"SplitTrainingTestingData\">\n",
    "</a>\n",
    "\n",
    "\n",
    "[back to top](#backtotop)"
   ]
  },
  {
   "cell_type": "code",
   "execution_count": 43,
   "metadata": {},
   "outputs": [
    {
     "data": {
      "text/plain": [
       "array([0, 0, 0, 0, 0, 0, 0, 0, 0, 0, 0, 0, 0, 0, 0, 0, 0, 0, 0, 0, 0, 0,\n",
       "       0, 0, 0, 0, 0, 0, 0, 0, 0, 0, 0, 0, 0, 0, 0, 0, 0, 0, 0, 0, 0, 0,\n",
       "       0, 0, 0, 0, 0, 0, 0, 0, 0, 0, 0, 0, 0, 0, 0, 1, 1, 1, 1, 1, 1, 1,\n",
       "       1, 1, 1, 1, 1, 1, 1, 1, 1, 1, 1, 1, 1, 1, 1, 1, 1, 1, 1, 1, 1, 1,\n",
       "       1, 1, 1, 1, 1, 1, 1, 1, 1, 1, 1, 1, 1, 1, 1, 1, 1, 1, 1, 1, 1, 1,\n",
       "       1, 1, 1, 1, 1, 1, 1, 1, 1, 1, 1, 1, 1, 1, 1, 1, 1, 1, 1, 1, 2, 2,\n",
       "       2, 2, 2, 2, 2, 2, 2, 2, 2, 2, 2, 2, 2, 2, 2, 2, 2, 2, 2, 2, 2, 2,\n",
       "       2, 2, 2, 2, 2, 2, 2, 2, 2, 2, 2, 2, 2, 2, 2, 2, 2, 2, 2, 2, 2, 2,\n",
       "       2, 2])"
      ]
     },
     "execution_count": 43,
     "metadata": {},
     "output_type": "execute_result"
    }
   ],
   "source": [
    "import pandas as pd\n",
    "from sklearn.model_selection import train_test_split\n",
    "from sklearn.datasets import load_wine\n",
    "\n",
    "features, target = load_wine(return_X_y=True)\n",
    "data = load_wine()\n",
    "sample_df = pd.concat([pd.DataFrame(features, columns = data.feature_names), pd.DataFrame(target, columns = [\"target\"])], axis = 1)\n",
    "\n",
    "\n",
    "x_train, x_test, y_train, y_test = train_test_split(sample_df, target,\n",
    "                                                    test_size = 0.1, random_state = 42, stratify = target)\n",
    "target"
   ]
  },
  {
   "cell_type": "markdown",
   "metadata": {},
   "source": [
    "## Decision  Tree<a name=\"DecisionTree\">\n",
    "</a>\n",
    "\n",
    "\n",
    "[back to top](#backtotop)"
   ]
  },
  {
   "cell_type": "code",
   "execution_count": 44,
   "metadata": {},
   "outputs": [
    {
     "name": "stdout",
     "output_type": "stream",
     "text": [
      "Accuracy From Decision Tree:  1.0\n"
     ]
    }
   ],
   "source": [
    "from sklearn.model_selection import train_test_split\n",
    "from sklearn.datasets import load_iris\n",
    "from sklearn.tree import DecisionTreeClassifier\n",
    "from sklearn.metrics import accuracy_score\n",
    "\n",
    "data = load_iris()\n",
    "x_train, x_test, y_train, y_test = train_test_split(data.data, data.target,\n",
    "                                                    test_size = 0.1, random_state = 3)\n",
    "\n",
    "\n",
    "def DecisionTree(x_train, x_test, y_train, y_test):\n",
    "    iris_classifier = DecisionTreeClassifier(random_state=0)\n",
    "    iris_classifier.fit(x_train, y_train)\n",
    "    y_predict = iris_classifier.predict(x_test)\n",
    "    print(\"Accuracy From Decision Tree: \",accuracy_score(y_test, y_predict))\n",
    "DecisionTree(x_train, x_test, y_train, y_test)"
   ]
  },
  {
   "cell_type": "markdown",
   "metadata": {},
   "source": [
    "## Community on Networkx<a name=\"Community\">\n",
    "</a>\n",
    "\n",
    "\n",
    "[back to top](#backtotop)"
   ]
  },
  {
   "cell_type": "code",
   "execution_count": 17,
   "metadata": {},
   "outputs": [
    {
     "name": "stdout",
     "output_type": "stream",
     "text": [
      "dict_values([0, 1, 2, 3, 2, 4, 5, 6, 7, 0, 8, 9, 7, 0, 10, 11, 3, 12, 12, 13, 5, 2, 14, 15, 9, 16, 5, 17, 2, 14])\n"
     ]
    },
    {
     "data": {
      "image/png": "[encoded data removed]",
      "text/plain": [
       "<Figure size 432x288 with 1 Axes>"
      ]
     },
     "metadata": {},
     "output_type": "display_data"
    }
   ],
   "source": [
    "%matplotlib inline\n",
    "import community\n",
    "import networkx as nx\n",
    "import matplotlib.pyplot as plt\n",
    "\n",
    "#better with karate_graph() as defined in networkx example.\n",
    "#erdos renyi don't have true community structure\n",
    "G = nx.erdos_renyi_graph(30, 0.05)\n",
    "\n",
    "#first compute the best partition\n",
    "partition = community.best_partition(G)\n",
    "print(partition.values())\n",
    "\n",
    "#drawing\n",
    "size = float(len(set(partition.values())))\n",
    "pos = nx.spring_layout(G)\n",
    "count = 0.\n",
    "for com in set(partition.values()) :\n",
    "    count = count + 1.\n",
    "    list_nodes = [nodes for nodes in partition.keys()\n",
    "                                if partition[nodes] == com]\n",
    "    nx.draw_networkx_nodes(G, pos, list_nodes, node_size = 20,\n",
    "                                node_color = str(count / size))\n",
    "\n",
    "\n",
    "nx.draw_networkx_edges(G, pos, alpha=0.5)\n",
    "plt.show()"
   ]
  },
  {
   "cell_type": "markdown",
   "metadata": {},
   "source": [
    "## Logistic Regression<a name=\"LR\">\n",
    "</a>\n",
    "\n",
    "\n",
    "[back to top](#backtotop)\n",
    "***\n",
    "**Code:**\n",
    "```python\n",
    "from sklearn.linear_model import LogisticRegression\n",
    "LR_model = LogisticRegression()\n",
    "```"
   ]
  },
  {
   "cell_type": "markdown",
   "metadata": {},
   "source": [
    "## Mutinomial Naive Bayes<a name=\"MNB\">\n",
    "</a>\n",
    "\n",
    "\n",
    "[back to top](#backtotop)\n",
    "***\n",
    "**Code:**\n",
    "```python\n",
    "from sklearn.naive_bayes import MultinomialNB\n",
    "NB_model = MultinomialNB(alpha = ...)\n",
    "```\n",
    "\n",
    "**Hyperparameter commonly tuned**: alpha"
   ]
  },
  {
   "cell_type": "code",
   "execution_count": null,
   "metadata": {},
   "outputs": [],
   "source": []
  }
 ],
 "metadata": {
  "kernelspec": {
   "display_name": "Python 3",
   "language": "python",
   "name": "python3"
  },
  "language_info": {
   "codemirror_mode": {
    "name": "ipython",
    "version": 3
   },
   "file_extension": ".py",
   "mimetype": "text/x-python",
   "name": "python",
   "nbconvert_exporter": "python",
   "pygments_lexer": "ipython3",
   "version": "3.7.3"
  }
 },
 "nbformat": 4,
 "nbformat_minor": 2
}
