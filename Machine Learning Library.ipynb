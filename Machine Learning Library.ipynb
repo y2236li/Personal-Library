{
 "cells": [
  {
   "cell_type": "markdown",
   "metadata": {},
   "source": [
    "# Agenda  <a name=\"backtotop\"></a>\n",
    "---\n",
    "\n",
    "1. [CrossValidation](#CrossValidation)\n",
    "2. [Split Training and Testing Data](#SplitTraningTestingData)"
   ]
  },
  {
   "cell_type": "markdown",
   "metadata": {},
   "source": [
    "## CrossValidation<a name=\"CrossValidation\">\n",
    "</a>\n",
    "\n",
    "\n",
    "[back to top](#backtotop)"
   ]
  },
  {
   "cell_type": "code",
   "execution_count": 2,
   "metadata": {},
   "outputs": [],
   "source": [
    "def CrossValidation(df, niter, f, *argvs):\n",
    "    accuracy = []\n",
    "    random_df = df.sample(frac = 1)\n",
    "    testing_len = int(len(random_df)/niter)\n",
    "    for i in range(niter):\n",
    "        df_testing = random_df.iloc[i*testing_len: (i+1)*testing_len]\n",
    "        df_training = pd.concat([random_df.iloc[:i*testing_len],\n",
    "                                       random_df.iloc[(i+1)*testing_len:]])\n",
    "        accuracy.append(f(df_training, df_testing, *argvs))\n",
    "        print(\"Iteration %d -- accuracy %f\"%(i, accuracy[-1]))\n",
    "    return np.average(accuracy)"
   ]
  },
  {
   "cell_type": "markdown",
   "metadata": {},
   "source": [
    "## Split Training and Testing Data<a name=\"SplitTrainingTestingData\">\n",
    "</a>\n",
    "\n",
    "\n",
    "[back to top](#backtotop)"
   ]
  },
  {
   "cell_type": "code",
   "execution_count": 43,
   "metadata": {},
   "outputs": [
    {
     "data": {
      "text/plain": [
       "array([0, 0, 0, 0, 0, 0, 0, 0, 0, 0, 0, 0, 0, 0, 0, 0, 0, 0, 0, 0, 0, 0,\n",
       "       0, 0, 0, 0, 0, 0, 0, 0, 0, 0, 0, 0, 0, 0, 0, 0, 0, 0, 0, 0, 0, 0,\n",
       "       0, 0, 0, 0, 0, 0, 0, 0, 0, 0, 0, 0, 0, 0, 0, 1, 1, 1, 1, 1, 1, 1,\n",
       "       1, 1, 1, 1, 1, 1, 1, 1, 1, 1, 1, 1, 1, 1, 1, 1, 1, 1, 1, 1, 1, 1,\n",
       "       1, 1, 1, 1, 1, 1, 1, 1, 1, 1, 1, 1, 1, 1, 1, 1, 1, 1, 1, 1, 1, 1,\n",
       "       1, 1, 1, 1, 1, 1, 1, 1, 1, 1, 1, 1, 1, 1, 1, 1, 1, 1, 1, 1, 2, 2,\n",
       "       2, 2, 2, 2, 2, 2, 2, 2, 2, 2, 2, 2, 2, 2, 2, 2, 2, 2, 2, 2, 2, 2,\n",
       "       2, 2, 2, 2, 2, 2, 2, 2, 2, 2, 2, 2, 2, 2, 2, 2, 2, 2, 2, 2, 2, 2,\n",
       "       2, 2])"
      ]
     },
     "execution_count": 43,
     "metadata": {},
     "output_type": "execute_result"
    }
   ],
   "source": [
    "import pandas as pd\n",
    "from sklearn.model_selection import train_test_split\n",
    "from sklearn.datasets import load_wine\n",
    "\n",
    "features, target = load_wine(return_X_y=True)\n",
    "data = load_wine()\n",
    "sample_df = pd.concat([pd.DataFrame(features, columns = data.feature_names), pd.DataFrame(target, columns = [\"target\"])], axis = 1)\n",
    "\n",
    "\n",
    "x_train, x_test, y_train, y_test = train_test_split(sample_df, target,\n",
    "                                                    test_size = 0.1, random_state = 42, stratify = target)\n",
    "target"
   ]
  },
  {
   "cell_type": "code",
   "execution_count": null,
   "metadata": {},
   "outputs": [],
   "source": []
  }
 ],
 "metadata": {
  "kernelspec": {
   "display_name": "Python 3",
   "language": "python",
   "name": "python3"
  },
  "language_info": {
   "codemirror_mode": {
    "name": "ipython",
    "version": 3
   },
   "file_extension": ".py",
   "mimetype": "text/x-python",
   "name": "python",
   "nbconvert_exporter": "python",
   "pygments_lexer": "ipython3",
   "version": "3.7.3"
  }
 },
 "nbformat": 4,
 "nbformat_minor": 2
}
