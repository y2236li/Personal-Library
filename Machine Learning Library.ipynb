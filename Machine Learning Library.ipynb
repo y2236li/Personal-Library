{
 "cells": [
  {
   "cell_type": "code",
   "execution_count": null,
   "metadata": {},
   "outputs": [],
   "source": [
    "def CrossValidation(df, niter, f, *argvs):\n",
    "    accuracy = []\n",
    "    random_df = df.sample(frac = 1)\n",
    "    testing_len = int(len(random_df)/niter)\n",
    "    for i in range(niter):\n",
    "        df_testing = random_df.iloc[i*testing_len: (i+1)*testing_len]\n",
    "        df_training = pd.concat([random_df.iloc[:i*testing_len],\n",
    "                                       random_df.iloc[(i+1)*testing_len:]])\n",
    "        accuracy.append(f(df_training, df_testing, *argvs))\n",
    "        print(\"Iteration %d -- accuracy %f\"%(i, accuracy[-1]))\n",
    "    return np.average(accuracy)"
   ]
  }
 ],
 "metadata": {
  "kernelspec": {
   "display_name": "Python 3",
   "language": "python",
   "name": "python3"
  },
  "language_info": {
   "codemirror_mode": {
    "name": "ipython",
    "version": 3
   },
   "file_extension": ".py",
   "mimetype": "text/x-python",
   "name": "python",
   "nbconvert_exporter": "python",
   "pygments_lexer": "ipython3",
   "version": "3.7.3"
  }
 },
 "nbformat": 4,
 "nbformat_minor": 2
}
